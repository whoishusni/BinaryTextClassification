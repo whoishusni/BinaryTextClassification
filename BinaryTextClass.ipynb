{
 "cells": [
  {
   "cell_type": "code",
   "execution_count": 1,
   "metadata": {},
   "outputs": [
    {
     "data": {
      "text/html": [
       "<div>\n",
       "<style scoped>\n",
       "    .dataframe tbody tr th:only-of-type {\n",
       "        vertical-align: middle;\n",
       "    }\n",
       "\n",
       "    .dataframe tbody tr th {\n",
       "        vertical-align: top;\n",
       "    }\n",
       "\n",
       "    .dataframe thead th {\n",
       "        text-align: right;\n",
       "    }\n",
       "</style>\n",
       "<table border=\"1\" class=\"dataframe\">\n",
       "  <thead>\n",
       "    <tr style=\"text-align: right;\">\n",
       "      <th></th>\n",
       "      <th>Sentences</th>\n",
       "      <th>Label</th>\n",
       "    </tr>\n",
       "  </thead>\n",
       "  <tbody>\n",
       "    <tr>\n",
       "      <th>0</th>\n",
       "      <td>Wow... Loved this place.</td>\n",
       "      <td>1</td>\n",
       "    </tr>\n",
       "    <tr>\n",
       "      <th>1</th>\n",
       "      <td>Crust is not good.</td>\n",
       "      <td>0</td>\n",
       "    </tr>\n",
       "    <tr>\n",
       "      <th>2</th>\n",
       "      <td>Not tasty and the texture was just nasty.</td>\n",
       "      <td>0</td>\n",
       "    </tr>\n",
       "    <tr>\n",
       "      <th>3</th>\n",
       "      <td>Stopped by during the late May bank holiday of...</td>\n",
       "      <td>1</td>\n",
       "    </tr>\n",
       "    <tr>\n",
       "      <th>4</th>\n",
       "      <td>The selection on the menu was great and so wer...</td>\n",
       "      <td>1</td>\n",
       "    </tr>\n",
       "    <tr>\n",
       "      <th>...</th>\n",
       "      <td>...</td>\n",
       "      <td>...</td>\n",
       "    </tr>\n",
       "    <tr>\n",
       "      <th>995</th>\n",
       "      <td>I think food should have flavor and texture an...</td>\n",
       "      <td>0</td>\n",
       "    </tr>\n",
       "    <tr>\n",
       "      <th>996</th>\n",
       "      <td>Appetite instantly gone.</td>\n",
       "      <td>0</td>\n",
       "    </tr>\n",
       "    <tr>\n",
       "      <th>997</th>\n",
       "      <td>Overall I was not impressed and would not go b...</td>\n",
       "      <td>0</td>\n",
       "    </tr>\n",
       "    <tr>\n",
       "      <th>998</th>\n",
       "      <td>The whole experience was underwhelming, and I ...</td>\n",
       "      <td>0</td>\n",
       "    </tr>\n",
       "    <tr>\n",
       "      <th>999</th>\n",
       "      <td>Then, as if I hadn't wasted enough of my life ...</td>\n",
       "      <td>0</td>\n",
       "    </tr>\n",
       "  </tbody>\n",
       "</table>\n",
       "<p>1000 rows × 2 columns</p>\n",
       "</div>"
      ],
      "text/plain": [
       "                                             Sentences  Label\n",
       "0                             Wow... Loved this place.      1\n",
       "1                                   Crust is not good.      0\n",
       "2            Not tasty and the texture was just nasty.      0\n",
       "3    Stopped by during the late May bank holiday of...      1\n",
       "4    The selection on the menu was great and so wer...      1\n",
       "..                                                 ...    ...\n",
       "995  I think food should have flavor and texture an...      0\n",
       "996                           Appetite instantly gone.      0\n",
       "997  Overall I was not impressed and would not go b...      0\n",
       "998  The whole experience was underwhelming, and I ...      0\n",
       "999  Then, as if I hadn't wasted enough of my life ...      0\n",
       "\n",
       "[1000 rows x 2 columns]"
      ]
     },
     "execution_count": 1,
     "metadata": {},
     "output_type": "execute_result"
    }
   ],
   "source": [
    "import pandas as pd\n",
    "\n",
    "df = pd.read_csv('yelp_labelled.txt', names=['Sentences','Label'], sep='\\t')\n",
    "df"
   ]
  },
  {
   "cell_type": "code",
   "execution_count": 2,
   "metadata": {},
   "outputs": [],
   "source": [
    "from sklearn.model_selection import train_test_split\n",
    "\n",
    "sent = df['Sentences'].values\n",
    "lab = df['Label'].values\n",
    "\n",
    "sent_train, sent_test, lab_train, lab_test = train_test_split(sent,lab, test_size=0.2)"
   ]
  },
  {
   "cell_type": "code",
   "execution_count": 3,
   "metadata": {},
   "outputs": [],
   "source": [
    "from keras.preprocessing.text import Tokenizer\n",
    "from keras.utils import pad_sequences\n",
    "\n",
    "tokenizer = Tokenizer(num_words=250, oov_token='OOV')\n",
    "\n",
    "tokenizer.fit_on_texts(sent_train)\n",
    "tokenizer.fit_on_texts(sent_test)\n",
    "\n",
    "sent_train_sequence = tokenizer.texts_to_sequences(sent_train)\n",
    "sent_test_sequence = tokenizer.texts_to_sequences(sent_test)\n",
    "\n",
    "sent_train_padding = pad_sequences(sent_train_sequence, maxlen=20, padding='post')\n",
    "sent_test_padding = pad_sequences(sent_test_sequence, maxlen=20, padding='post')"
   ]
  },
  {
   "cell_type": "code",
   "execution_count": 4,
   "metadata": {},
   "outputs": [],
   "source": [
    "from keras.models import Sequential\n",
    "from keras.layers import Embedding, Dense, GlobalAveragePooling1D\n",
    "\n",
    "model = Sequential([Embedding(250, 16, input_length=20),\n",
    "                    GlobalAveragePooling1D(),\n",
    "                    Dense(32, activation='relu'),\n",
    "                    Dense(1, activation='sigmoid')])\n",
    "\n",
    "model.compile(optimizer='adam',\n",
    "              loss='binary_crossentropy',\n",
    "              metrics='accuracy')"
   ]
  },
  {
   "cell_type": "code",
   "execution_count": 5,
   "metadata": {},
   "outputs": [
    {
     "name": "stdout",
     "output_type": "stream",
     "text": [
      "Epoch 1/50\n",
      "25/25 - 2s - loss: 0.6924 - accuracy: 0.5512 - val_loss: 0.6906 - val_accuracy: 0.5400 - 2s/epoch - 88ms/step\n",
      "Epoch 2/50\n",
      "25/25 - 0s - loss: 0.6893 - accuracy: 0.5825 - val_loss: 0.6867 - val_accuracy: 0.6100 - 142ms/epoch - 6ms/step\n",
      "Epoch 3/50\n",
      "25/25 - 0s - loss: 0.6843 - accuracy: 0.6100 - val_loss: 0.6816 - val_accuracy: 0.6450 - 158ms/epoch - 6ms/step\n",
      "Epoch 4/50\n",
      "25/25 - 0s - loss: 0.6767 - accuracy: 0.6350 - val_loss: 0.6737 - val_accuracy: 0.6900 - 141ms/epoch - 6ms/step\n",
      "Epoch 5/50\n",
      "25/25 - 0s - loss: 0.6652 - accuracy: 0.6587 - val_loss: 0.6607 - val_accuracy: 0.7100 - 142ms/epoch - 6ms/step\n",
      "Epoch 6/50\n",
      "25/25 - 0s - loss: 0.6461 - accuracy: 0.7050 - val_loss: 0.6431 - val_accuracy: 0.7000 - 157ms/epoch - 6ms/step\n",
      "Epoch 7/50\n",
      "25/25 - 0s - loss: 0.6217 - accuracy: 0.7138 - val_loss: 0.6195 - val_accuracy: 0.7250 - 157ms/epoch - 6ms/step\n",
      "Epoch 8/50\n",
      "25/25 - 0s - loss: 0.5884 - accuracy: 0.7738 - val_loss: 0.5973 - val_accuracy: 0.7350 - 140ms/epoch - 6ms/step\n",
      "Epoch 9/50\n",
      "25/25 - 0s - loss: 0.5556 - accuracy: 0.7713 - val_loss: 0.5705 - val_accuracy: 0.7450 - 145ms/epoch - 6ms/step\n",
      "Epoch 10/50\n",
      "25/25 - 0s - loss: 0.5169 - accuracy: 0.7975 - val_loss: 0.5443 - val_accuracy: 0.7550 - 56ms/epoch - 2ms/step\n",
      "Epoch 11/50\n",
      "25/25 - 0s - loss: 0.4804 - accuracy: 0.8112 - val_loss: 0.5224 - val_accuracy: 0.7600 - 56ms/epoch - 2ms/step\n",
      "Epoch 12/50\n",
      "25/25 - 0s - loss: 0.4477 - accuracy: 0.8275 - val_loss: 0.5081 - val_accuracy: 0.7450 - 56ms/epoch - 2ms/step\n",
      "Epoch 13/50\n",
      "25/25 - 0s - loss: 0.4187 - accuracy: 0.8275 - val_loss: 0.4943 - val_accuracy: 0.7700 - 56ms/epoch - 2ms/step\n",
      "Epoch 14/50\n",
      "25/25 - 0s - loss: 0.3959 - accuracy: 0.8350 - val_loss: 0.4881 - val_accuracy: 0.7550 - 56ms/epoch - 2ms/step\n",
      "Epoch 15/50\n",
      "25/25 - 0s - loss: 0.3731 - accuracy: 0.8575 - val_loss: 0.4791 - val_accuracy: 0.7600 - 56ms/epoch - 2ms/step\n",
      "Epoch 16/50\n",
      "25/25 - 0s - loss: 0.3562 - accuracy: 0.8637 - val_loss: 0.4740 - val_accuracy: 0.7800 - 80ms/epoch - 3ms/step\n",
      "Epoch 17/50\n",
      "25/25 - 0s - loss: 0.3414 - accuracy: 0.8712 - val_loss: 0.4770 - val_accuracy: 0.7700 - 56ms/epoch - 2ms/step\n",
      "Epoch 18/50\n",
      "25/25 - 0s - loss: 0.3274 - accuracy: 0.8737 - val_loss: 0.4757 - val_accuracy: 0.7800 - 56ms/epoch - 2ms/step\n",
      "Epoch 19/50\n",
      "25/25 - 0s - loss: 0.3167 - accuracy: 0.8750 - val_loss: 0.4817 - val_accuracy: 0.7700 - 58ms/epoch - 2ms/step\n",
      "Epoch 20/50\n",
      "25/25 - 0s - loss: 0.3091 - accuracy: 0.8800 - val_loss: 0.4814 - val_accuracy: 0.7650 - 63ms/epoch - 3ms/step\n",
      "Epoch 21/50\n",
      "25/25 - 0s - loss: 0.2993 - accuracy: 0.8825 - val_loss: 0.4884 - val_accuracy: 0.7600 - 58ms/epoch - 2ms/step\n",
      "Epoch 22/50\n",
      "25/25 - 0s - loss: 0.2925 - accuracy: 0.8813 - val_loss: 0.4920 - val_accuracy: 0.7600 - 48ms/epoch - 2ms/step\n",
      "Epoch 23/50\n",
      "25/25 - 0s - loss: 0.2832 - accuracy: 0.8863 - val_loss: 0.4937 - val_accuracy: 0.7900 - 48ms/epoch - 2ms/step\n",
      "Epoch 24/50\n",
      "25/25 - 0s - loss: 0.2824 - accuracy: 0.8813 - val_loss: 0.5053 - val_accuracy: 0.7650 - 48ms/epoch - 2ms/step\n",
      "Epoch 25/50\n",
      "25/25 - 0s - loss: 0.2740 - accuracy: 0.8950 - val_loss: 0.5042 - val_accuracy: 0.8000 - 56ms/epoch - 2ms/step\n",
      "Epoch 26/50\n",
      "25/25 - 0s - loss: 0.2703 - accuracy: 0.8950 - val_loss: 0.5130 - val_accuracy: 0.8000 - 48ms/epoch - 2ms/step\n",
      "Epoch 27/50\n",
      "25/25 - 0s - loss: 0.2652 - accuracy: 0.8975 - val_loss: 0.5199 - val_accuracy: 0.8050 - 48ms/epoch - 2ms/step\n",
      "Epoch 28/50\n",
      "25/25 - 0s - loss: 0.2617 - accuracy: 0.8963 - val_loss: 0.5285 - val_accuracy: 0.8000 - 48ms/epoch - 2ms/step\n",
      "Epoch 29/50\n",
      "25/25 - 0s - loss: 0.2562 - accuracy: 0.9013 - val_loss: 0.5336 - val_accuracy: 0.8000 - 56ms/epoch - 2ms/step\n",
      "Epoch 30/50\n",
      "25/25 - 0s - loss: 0.2548 - accuracy: 0.8963 - val_loss: 0.5559 - val_accuracy: 0.7950 - 56ms/epoch - 2ms/step\n",
      "Epoch 31/50\n",
      "25/25 - 0s - loss: 0.2467 - accuracy: 0.9075 - val_loss: 0.5499 - val_accuracy: 0.7800 - 56ms/epoch - 2ms/step\n",
      "Epoch 32/50\n",
      "25/25 - 0s - loss: 0.2517 - accuracy: 0.8963 - val_loss: 0.5617 - val_accuracy: 0.7950 - 56ms/epoch - 2ms/step\n",
      "Epoch 33/50\n",
      "25/25 - 0s - loss: 0.2440 - accuracy: 0.9062 - val_loss: 0.5632 - val_accuracy: 0.8000 - 56ms/epoch - 2ms/step\n",
      "Epoch 34/50\n",
      "25/25 - 0s - loss: 0.2426 - accuracy: 0.9062 - val_loss: 0.5676 - val_accuracy: 0.7950 - 58ms/epoch - 2ms/step\n",
      "Epoch 35/50\n",
      "25/25 - 0s - loss: 0.2420 - accuracy: 0.8925 - val_loss: 0.5778 - val_accuracy: 0.8000 - 48ms/epoch - 2ms/step\n",
      "Epoch 36/50\n",
      "25/25 - 0s - loss: 0.2397 - accuracy: 0.9075 - val_loss: 0.6152 - val_accuracy: 0.7700 - 49ms/epoch - 2ms/step\n",
      "Epoch 37/50\n",
      "25/25 - 0s - loss: 0.2446 - accuracy: 0.9062 - val_loss: 0.5907 - val_accuracy: 0.8000 - 48ms/epoch - 2ms/step\n",
      "Epoch 38/50\n",
      "25/25 - 0s - loss: 0.2362 - accuracy: 0.9087 - val_loss: 0.6034 - val_accuracy: 0.7900 - 56ms/epoch - 2ms/step\n",
      "Epoch 39/50\n",
      "25/25 - 0s - loss: 0.2335 - accuracy: 0.9075 - val_loss: 0.6022 - val_accuracy: 0.8000 - 48ms/epoch - 2ms/step\n",
      "Epoch 40/50\n",
      "25/25 - 0s - loss: 0.2341 - accuracy: 0.9038 - val_loss: 0.6241 - val_accuracy: 0.7700 - 48ms/epoch - 2ms/step\n",
      "Epoch 41/50\n",
      "25/25 - 0s - loss: 0.2317 - accuracy: 0.9100 - val_loss: 0.6350 - val_accuracy: 0.7650 - 48ms/epoch - 2ms/step\n",
      "Epoch 42/50\n",
      "25/25 - 0s - loss: 0.2277 - accuracy: 0.9050 - val_loss: 0.6275 - val_accuracy: 0.8000 - 48ms/epoch - 2ms/step\n",
      "Epoch 43/50\n",
      "25/25 - 0s - loss: 0.2262 - accuracy: 0.9100 - val_loss: 0.6378 - val_accuracy: 0.7850 - 48ms/epoch - 2ms/step\n",
      "Epoch 44/50\n",
      "25/25 - 0s - loss: 0.2237 - accuracy: 0.9125 - val_loss: 0.6382 - val_accuracy: 0.7950 - 48ms/epoch - 2ms/step\n",
      "Epoch 45/50\n",
      "25/25 - 0s - loss: 0.2216 - accuracy: 0.9112 - val_loss: 0.6620 - val_accuracy: 0.7700 - 64ms/epoch - 3ms/step\n",
      "Epoch 46/50\n",
      "25/25 - 0s - loss: 0.2227 - accuracy: 0.9087 - val_loss: 0.6614 - val_accuracy: 0.7850 - 64ms/epoch - 3ms/step\n",
      "Epoch 47/50\n",
      "25/25 - 0s - loss: 0.2180 - accuracy: 0.9125 - val_loss: 0.6583 - val_accuracy: 0.7900 - 48ms/epoch - 2ms/step\n",
      "Epoch 48/50\n",
      "25/25 - 0s - loss: 0.2170 - accuracy: 0.9162 - val_loss: 0.6682 - val_accuracy: 0.7800 - 56ms/epoch - 2ms/step\n",
      "Epoch 49/50\n",
      "25/25 - 0s - loss: 0.2183 - accuracy: 0.9075 - val_loss: 0.6725 - val_accuracy: 0.7800 - 56ms/epoch - 2ms/step\n",
      "Epoch 50/50\n",
      "25/25 - 0s - loss: 0.2164 - accuracy: 0.9150 - val_loss: 0.6755 - val_accuracy: 0.8000 - 56ms/epoch - 2ms/step\n"
     ]
    }
   ],
   "source": [
    "hist = model.fit(sent_train_padding, lab_train, validation_data=(sent_test_padding, lab_test), batch_size=32, epochs=50, verbose=2)"
   ]
  },
  {
   "cell_type": "code",
   "execution_count": 6,
   "metadata": {},
   "outputs": [
    {
     "data": {
      "image/png": "[encoded data removed]",
      "text/plain": [
       "<Figure size 640x480 with 1 Axes>"
      ]
     },
     "metadata": {},
     "output_type": "display_data"
    }
   ],
   "source": [
    "import matplotlib.pyplot as plt\n",
    "\n",
    "plt.plot(hist.history['accuracy'])\n",
    "plt.plot(hist.history['val_accuracy'])\n",
    "plt.legend(['train','test'])\n",
    "plt.show()"
   ]
  },
  {
   "cell_type": "code",
   "execution_count": 7,
   "metadata": {},
   "outputs": [
    {
     "name": "stdout",
     "output_type": "stream",
     "text": [
      "2.11.0\n"
     ]
    }
   ],
   "source": [
    "import tensorflow as tf\n",
    "print(tf.__version__)"
   ]
  }
 ],
 "metadata": {
  "kernelspec": {
   "display_name": "Python 3",
   "language": "python",
   "name": "python3"
  },
  "language_info": {
   "codemirror_mode": {
    "name": "ipython",
    "version": 3
   },
   "file_extension": ".py",
   "mimetype": "text/x-python",
   "name": "python",
   "nbconvert_exporter": "python",
   "pygments_lexer": "ipython3",
   "version": "3.10.9"
  },
  "orig_nbformat": 4,
  "vscode": {
   "interpreter": {
    "hash": "58837b1b657ea91009af8409fc244ae3b5ccf93ea980d6fb6b80adc5f697f4cc"
   }
  }
 },
 "nbformat": 4,
 "nbformat_minor": 2
}
